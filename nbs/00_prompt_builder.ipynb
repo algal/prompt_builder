{
 "cells": [
  {
   "cell_type": "markdown",
   "metadata": {},
   "source": [
    "# prompt_builder\n",
    "\n",
    "> A nano-library for filling the fields of a template, partially and in any order.\n",
    "\n",
    "This can be handy in situations where you want to build up different variations of a completed template, by filling different fields differently, and this cannot done simply by appending values."
   ]
  },
  {
   "cell_type": "code",
   "execution_count": null,
   "metadata": {},
   "outputs": [],
   "source": [
    "#| default_exp core"
   ]
  },
  {
   "cell_type": "code",
   "execution_count": null,
   "metadata": {},
   "outputs": [],
   "source": [
    "#| hide\n",
    "from nbdev.showdoc import *"
   ]
  },
  {
   "cell_type": "code",
   "execution_count": null,
   "metadata": {},
   "outputs": [],
   "source": [
    "#| export\n",
    "\n",
    "from typing import Dict, Set\n",
    "from string import Formatter\n",
    "\n",
    "\n",
    "def fields_needed(format_string:str) -> Set[str]:\n",
    "    \"Returns fields needed to complete format_string\"\n",
    "    return set(fname for (_,fname,_,_) in Formatter().parse(format_string) if fname)"
   ]
  },
  {
   "cell_type": "markdown",
   "metadata": {},
   "source": [
    "`fields_needed` simply tells you which fields are needed to complete the provided string:"
   ]
  },
  {
   "cell_type": "code",
   "execution_count": null,
   "metadata": {},
   "outputs": [
    {
     "data": {
      "text/plain": [
       "{'mutual_friend', 'name'}"
      ]
     },
     "execution_count": null,
     "metadata": {},
     "output_type": "execute_result"
    }
   ],
   "source": [
    "fields_needed(\"Hello {name}, do you know {mutual_friend}?\")"
   ]
  },
  {
   "cell_type": "code",
   "execution_count": null,
   "metadata": {},
   "outputs": [],
   "source": [
    "assert fields_needed(\"I know you, {friend}\") == set({\"friend\"})"
   ]
  },
  {
   "cell_type": "code",
   "execution_count": null,
   "metadata": {},
   "outputs": [],
   "source": [
    "assert fields_needed(\"There's nothing to fill here\") == set({})"
   ]
  },
  {
   "cell_type": "markdown",
   "metadata": {},
   "source": [
    "Use `substitute_vals` to fill fields in a template as needed."
   ]
  },
  {
   "cell_type": "code",
   "execution_count": null,
   "metadata": {},
   "outputs": [],
   "source": [
    "#| export\n",
    "\n",
    "def substitute_vals(format_string:str,**vals) -> str:\n",
    "    \"Substitutes fields from vals into format_string\"\n",
    "    still_needed = set(fields_needed(format_string)) - set(vals.keys())\n",
    "    missing_dict = {k:( '{' + k + '}' ) for k in still_needed}\n",
    "    return format_string.format(**(vals | missing_dict))"
   ]
  },
  {
   "cell_type": "markdown",
   "metadata": {},
   "source": [
    "You can fill all the values at once:"
   ]
  },
  {
   "cell_type": "code",
   "execution_count": null,
   "metadata": {},
   "outputs": [
    {
     "data": {
      "text/plain": [
       "'Hello Jack, do you know Bob'"
      ]
     },
     "execution_count": null,
     "metadata": {},
     "output_type": "execute_result"
    }
   ],
   "source": [
    "substitute_vals(\"Hello {name}, do you know {mutual_friend}\",name=\"Jack\",mutual_friend=\"Bob\")"
   ]
  },
  {
   "cell_type": "markdown",
   "metadata": {},
   "source": [
    "Or you can fill just one value, and get back a new format string listing with only the remaining fields:"
   ]
  },
  {
   "cell_type": "code",
   "execution_count": null,
   "metadata": {},
   "outputs": [
    {
     "data": {
      "text/plain": [
       "'Hello {name}, do you know Bob'"
      ]
     },
     "execution_count": null,
     "metadata": {},
     "output_type": "execute_result"
    }
   ],
   "source": [
    "substitute_vals(\"Hello {name}, do you know {mutual_friend}\",mutual_friend=\"Bob\")"
   ]
  },
  {
   "cell_type": "markdown",
   "metadata": {},
   "source": [
    "The class `Prompt` just wraps up the format string, and the values provided so far, into an instance:"
   ]
  },
  {
   "cell_type": "code",
   "execution_count": null,
   "metadata": {},
   "outputs": [],
   "source": [
    "#| exports\n",
    "\n",
    "class Prompt:\n",
    "    def __init__(self,format_string):\n",
    "      'Initializees a prompt from a format string'\n",
    "      self.format_string = format_string\n",
    "      self.values:Dict[str,str] = {}\n",
    "    def add(self,**new_values):\n",
    "      \"Fill the prompt's fields with new values\"\n",
    "      self.values = self.values | new_values\n",
    "      return self\n",
    "    def needed(self) -> Set[str]:\n",
    "      \"Returns the fields not yet filled\"\n",
    "      return set(fields_needed(self.format_string)) - set(self.values.keys())\n",
    "    def text(self) -> str:\n",
    "      \"Returns the prompt, filled completely or partially\"\n",
    "      return substitute_vals(self.format_string,**self.values)"
   ]
  },
  {
   "cell_type": "markdown",
   "metadata": {},
   "source": [
    "Then you can put your prompt into an object:"
   ]
  },
  {
   "cell_type": "code",
   "execution_count": null,
   "metadata": {},
   "outputs": [],
   "source": [
    "p = Prompt(\"\"\"I will provide a transcript. Please review it.\n",
    "\n",
    "As you review it, identify {topic_count} topics in the transcript, \n",
    "and extract {quote_count} verbatim quotes related to the topic. Every \n",
    "verbatim quote should be between {min_size} and {max_size} words long.\n",
    "\n",
    "Then reply the list of topics, providing the quotes for each topic:\n",
    "\n",
    "\n",
    "```\n",
    "{transcript}\n",
    "```\n",
    "\n",
    "Okay, generate your report on this transcript:\n",
    "\"\"\")"
   ]
  },
  {
   "cell_type": "markdown",
   "metadata": {},
   "source": [
    "And track the needed fields as you use it."
   ]
  },
  {
   "cell_type": "code",
   "execution_count": null,
   "metadata": {},
   "outputs": [
    {
     "data": {
      "text/plain": [
       "{'max_size', 'min_size', 'quote_count', 'topic_count', 'transcript'}"
      ]
     },
     "execution_count": null,
     "metadata": {},
     "output_type": "execute_result"
    }
   ],
   "source": [
    "p.needed()"
   ]
  },
  {
   "cell_type": "code",
   "execution_count": null,
   "metadata": {},
   "outputs": [],
   "source": [
    "assert p.needed() == set({'max_size', 'min_size', 'quote_count', 'topic_count', 'transcript'})"
   ]
  },
  {
   "cell_type": "markdown",
   "metadata": {},
   "source": [
    "You can use method-chaining syntax to add field values incrementally."
   ]
  },
  {
   "cell_type": "code",
   "execution_count": null,
   "metadata": {},
   "outputs": [],
   "source": [
    "p.add(quote_count='5').add(min_size='100',max_size='500').add(topic_count='1')\n",
    "assert p.needed() == set({'transcript'})"
   ]
  },
  {
   "cell_type": "markdown",
   "metadata": {},
   "source": [
    "And feed the output to plain Python string formatting later:"
   ]
  },
  {
   "cell_type": "code",
   "execution_count": null,
   "metadata": {},
   "outputs": [
    {
     "name": "stdout",
     "output_type": "stream",
     "text": [
      "I will provide a transcript. Please review it.\n",
      "\n",
      "As you review it, identify 1 topics in the transcript, \n",
      "and extract 5 verbatim quotes related to the topic. Every \n",
      "verbatim quote should be between 100 and 500 words long.\n",
      "\n",
      "Then reply the list of topics, providing the quotes for each topic:\n",
      "\n",
      "\n",
      "```\n",
      "Hi, bob. This interview is done!\n",
      "```\n",
      "\n",
      "Okay, generate your report on this transcript:\n",
      "\n"
     ]
    }
   ],
   "source": [
    "# returns a new template with only the missing values as named fields\n",
    "s = p.text() \n",
    "# Use plain old string.format to complete that field\n",
    "print(s.format(transcript=\"Hi, bob. This interview is done!\"))"
   ]
  },
  {
   "cell_type": "code",
   "execution_count": null,
   "metadata": {},
   "outputs": [],
   "source": []
  },
  {
   "cell_type": "code",
   "execution_count": null,
   "metadata": {},
   "outputs": [],
   "source": [
    "#| hide\n",
    "import nbdev; nbdev.nbdev_export()"
   ]
  }
 ],
 "metadata": {
  "kernelspec": {
   "display_name": "python3",
   "language": "python",
   "name": "python3"
  }
 },
 "nbformat": 4,
 "nbformat_minor": 4
}
