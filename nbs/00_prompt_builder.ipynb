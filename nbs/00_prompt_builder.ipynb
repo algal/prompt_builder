{
 "cells": [
  {
   "cell_type": "markdown",
   "metadata": {},
   "source": [
    "# prompt_builder\n",
    "\n",
    "> A nano-library for filling the fields of a prompt template, partially and in any order."
   ]
  },
  {
   "cell_type": "code",
   "execution_count": 6,
   "metadata": {},
   "outputs": [],
   "source": [
    "#| default_exp core"
   ]
  },
  {
   "cell_type": "code",
   "execution_count": 7,
   "metadata": {},
   "outputs": [],
   "source": [
    "#| hide\n",
    "from nbdev.showdoc import *"
   ]
  },
  {
   "cell_type": "code",
   "execution_count": 9,
   "metadata": {},
   "outputs": [],
   "source": [
    "#| export\n",
    "\n",
    "from typing import Dict, Set\n",
    "from string import Formatter\n",
    "\n",
    "\n",
    "def fields_needed(format_string:str) -> Set[str]:\n",
    "    \"Returns fields needed to complete format_string\"\n",
    "    return set(fname for (_,fname,_,_) in Formatter().parse(format_string) if fname)\n",
    "\n",
    "\n",
    "def substitute_vals(format_string:str,**vals) -> str:\n",
    "    \"Substitutes fields from vals into format_string\"\n",
    "    still_needed = set(fields_needed(format_string)) - set(vals.keys())\n",
    "    missing_dict = {k:( '{' + k + '}' ) for k in still_needed}\n",
    "    return format_string.format(**(vals | missing_dict))\n",
    "\n",
    "\n",
    "class Prompt:\n",
    "    def __init__(self,format_string):\n",
    "      'Initializees a prompt from a format string'\n",
    "      self.format_string = format_string\n",
    "      self.values:Dict[str,str] = {}\n",
    "    def add(self,**new_values):\n",
    "      \"Fill the prompt's fields with new values\"\n",
    "      self.values = self.values | new_values\n",
    "      return self\n",
    "    def needed(self) -> Set[str]:\n",
    "      \"Returns the fields not yet filled\"\n",
    "      return set(fields_needed(self.format_string)) - set(self.values.keys())\n",
    "    def text(self) -> str:\n",
    "      \"Returns the prompt, filled completely or partially\"\n",
    "      return substitute_vals(self.format_string,**self.values)\n"
   ]
  },
  {
   "cell_type": "code",
   "execution_count": null,
   "metadata": {},
   "outputs": [],
   "source": [
    "#| hide\n",
    "import nbdev; nbdev.nbdev_export()"
   ]
  },
  {
   "cell_type": "code",
   "execution_count": null,
   "metadata": {},
   "outputs": [],
   "source": []
  },
  {
   "cell_type": "code",
   "execution_count": null,
   "metadata": {},
   "outputs": [],
   "source": []
  }
 ],
 "metadata": {
  "kernelspec": {
   "display_name": "Python 3 (ipykernel)",
   "language": "python",
   "name": "python3"
  },
  "language_info": {
   "codemirror_mode": {
    "name": "ipython",
    "version": 3
   },
   "file_extension": ".py",
   "mimetype": "text/x-python",
   "name": "python",
   "nbconvert_exporter": "python",
   "pygments_lexer": "ipython3",
   "version": "3.11.9"
  }
 },
 "nbformat": 4,
 "nbformat_minor": 4
}
