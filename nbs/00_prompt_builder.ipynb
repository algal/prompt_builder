{
 "cells": [
  {
   "cell_type": "markdown",
   "metadata": {},
   "source": [
    "# prompt_builder\n",
    "\n",
    "> A nano-library to help filling the fields of a prompt template, partially and in any order."
   ]
  },
  {
   "cell_type": "code",
   "execution_count": null,
   "metadata": {},
   "outputs": [],
   "source": [
    "#| default_exp core"
   ]
  },
  {
   "cell_type": "code",
   "execution_count": null,
   "metadata": {},
   "outputs": [],
   "source": [
    "#| hide\n",
    "from nbdev.showdoc import *"
   ]
  },
  {
   "cell_type": "code",
   "execution_count": null,
   "metadata": {},
   "outputs": [],
   "source": [
    "#| export\n",
    "\n",
    "from typing import Dict, Set\n",
    "from string import Formatter\n",
    "\n",
    "\n",
    "def fields_needed(format_string:str) -> Set[str]:\n",
    "    \"Returns fields needed to complete format_string\"\n",
    "    return set(fname for (_,fname,_,_) in Formatter().parse(format_string) if fname)\n",
    "\n",
    "\n",
    "def substitute_vals(format_string:str,**vals) -> str:\n",
    "    \"Substitutes fields from vals into format_string\"\n",
    "    still_needed = set(fields_needed(format_string)) - set(vals.keys())\n",
    "    missing_dict = {k:( '{' + k + '}' ) for k in still_needed}\n",
    "    return format_string.format(**(vals | missing_dict))\n",
    "\n",
    "\n",
    "class Prompt:\n",
    "    def __init__(self,format_string):\n",
    "      'Initializees with a prompt template with vars in the style ${name}'\n",
    "      self.format_string = format_string\n",
    "      self.values:Dict[str,str] = {}\n",
    "    def add(self,**new_values):\n",
    "      \"Adds a dictionary of template vars and their values\"\n",
    "      self.values = self.values | new_values\n",
    "      return self\n",
    "    def needed(self) -> Set[str]:\n",
    "      \"Returns the set of template vars not yet added\"\n",
    "      return set(fields_needed(self.format_string)) - set(self.values.keys())\n",
    "    def text(self) -> str:\n",
    "      \"Returns format_string with available vals substituted\"\n",
    "      return substitute_vals(self.format_string,**self.values)\n"
   ]
  },
  {
   "cell_type": "code",
   "execution_count": null,
   "metadata": {},
   "outputs": [],
   "source": [
    "#| hide\n",
    "import nbdev; nbdev.nbdev_export()"
   ]
  },
  {
   "cell_type": "code",
   "execution_count": null,
   "metadata": {},
   "outputs": [],
   "source": []
  },
  {
   "cell_type": "code",
   "execution_count": null,
   "metadata": {},
   "outputs": [],
   "source": []
  }
 ],
 "metadata": {
  "kernelspec": {
   "display_name": "python3",
   "language": "python",
   "name": "python3"
  }
 },
 "nbformat": 4,
 "nbformat_minor": 4
}
